{
 "cells": [
  {
   "cell_type": "markdown",
   "metadata": {},
   "source": [
    "# Custom Javascript Visualization"
   ]
  },
  {
   "cell_type": "markdown",
   "metadata": {},
   "source": [
    "This is an example of how to create a custom visualization using the Javascript library D3."
   ]
  },
  {
   "cell_type": "code",
   "execution_count": 10,
   "metadata": {},
   "outputs": [],
   "source": [
    "from IPython.display import display, Javascript, HTML\n",
    "import json"
   ]
  },
  {
   "cell_type": "code",
   "execution_count": 17,
   "metadata": {},
   "outputs": [
    {
     "data": {
      "application/javascript": [
       "require.config({paths: {d3: 'https://d3js.org/d3.v5.min'}});"
      ],
      "text/plain": [
       "<IPython.core.display.Javascript object>"
      ]
     },
     "metadata": {},
     "output_type": "display_data"
    },
    {
     "data": {
      "application/javascript": [
       "// First undefine 'circles' so we can easily reload this file.\n",
       "require.undef('circles');\n",
       "\n",
       "define('circles', ['d3'], function (d3) {\n",
       "\n",
       "    function draw(container, data, width, height) {\n",
       "        width = width || 600;\n",
       "        height = height || 200;\n",
       "        var svg = d3.select(container).append(\"svg\")\n",
       "            .attr('width', width)\n",
       "            .attr('height', height)\n",
       "            .append(\"g\");\n",
       "\n",
       "        var x = d3.scaleLinear()\n",
       "            .domain([0, data.length - 1])\n",
       "            .range([50, width - 50]);\n",
       "\n",
       "        var circles = svg.selectAll('circle').data(data);\n",
       "\n",
       "        circles.enter()\n",
       "            .append('circle')\n",
       "            .attr(\"cx\", function (d, i) {return x(i);})\n",
       "            .attr(\"cy\", height / 2)\n",
       "            .attr(\"r\", 20)\n",
       "            .style(\"fill\", \"#1f77b4\")\n",
       "            .style(\"opacity\", 0.7)\n",
       "            .on('mouseover', function() {\n",
       "                d3.select(this)\n",
       "                  .interrupt('fade')\n",
       "                  .style('fill', '#ff850e')\n",
       "                  .style(\"opacity\", 1)\n",
       "                  .attr(\"r\", function (d) {return 1.1 * d + 10;});\n",
       "            })\n",
       "            .on('mouseout', function() {\n",
       "                d3.select(this)\n",
       "                    .transition('fade').duration(500)\n",
       "                    .style(\"fill\", \"#1f77b4\")\n",
       "                    .style(\"opacity\", 0.7)\n",
       "                    .attr(\"r\", function (d) {return d;});\n",
       "            })\n",
       "            .transition().duration(2000)\n",
       "            .attr(\"r\", function (d) {return d;});\n",
       "    }\n",
       "\n",
       "    return draw;\n",
       "});\n",
       "\n",
       "element.append('<small>&#x25C9; &#x25CB; &#x25EF; Loaded circles.js &#x25CC; &#x25CE; &#x25CF;</small>');\n"
      ],
      "text/plain": [
       "<IPython.core.display.Javascript object>"
      ]
     },
     "metadata": {},
     "output_type": "display_data"
    },
    {
     "data": {
      "text/html": [
       "<style>\n",
       "svg circle {\n",
       "  stroke: #16527b;\n",
       "  stroke-width: 1px;\n",
       "}\n",
       "</style>\n"
      ],
      "text/plain": [
       "<IPython.core.display.HTML object>"
      ]
     },
     "metadata": {},
     "output_type": "display_data"
    }
   ],
   "source": [
    "display(Javascript(\"require.config({paths: {d3: 'https://d3js.org/d3.v5.min'}});\"))\n",
    "display(Javascript(filename=\"js/circles.js\"))\n",
    "display(HTML(filename=\"css/circles.css.html\"))"
   ]
  },
  {
   "cell_type": "code",
   "execution_count": 12,
   "metadata": {},
   "outputs": [],
   "source": [
    "def draw_circles(data, width=600, height=400):\n",
    "    display(Javascript(\"\"\"\n",
    "        (function(element){\n",
    "            require(['circles'], function(circles) {\n",
    "                circles(element.get(0), %s, %d, %d);\n",
    "            });\n",
    "        })(element);\n",
    "    \"\"\" % (json.dumps(data), width, height)))"
   ]
  },
  {
   "cell_type": "code",
   "execution_count": 16,
   "metadata": {},
   "outputs": [
    {
     "data": {
      "application/javascript": [
       "\n",
       "        (function(element){\n",
       "            require(['circles'], function(circles) {\n",
       "                circles(element.get(0), [10, 60, 40, 50, 30, 10], 500, 200);\n",
       "            });\n",
       "        })(element);\n",
       "    "
      ],
      "text/plain": [
       "<IPython.core.display.Javascript object>"
      ]
     },
     "metadata": {},
     "output_type": "display_data"
    }
   ],
   "source": [
    "draw_circles([10, 60, 40, 50, 30, 10], width=500, height=200)"
   ]
  },
  {
   "cell_type": "code",
   "execution_count": null,
   "metadata": {},
   "outputs": [],
   "source": []
  }
 ],
 "metadata": {
  "kernelspec": {
   "display_name": "Python 3",
   "language": "python",
   "name": "python3"
  },
  "language_info": {
   "codemirror_mode": {
    "name": "ipython",
    "version": 3
   },
   "file_extension": ".py",
   "mimetype": "text/x-python",
   "name": "python",
   "nbconvert_exporter": "python",
   "pygments_lexer": "ipython3",
   "version": "3.7.0"
  }
 },
 "nbformat": 4,
 "nbformat_minor": 4
}
